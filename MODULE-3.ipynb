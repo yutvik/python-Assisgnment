{
 "cells": [
  {
   "cell_type": "code",
   "execution_count": 54,
   "id": "d1e2547a",
   "metadata": {},
   "outputs": [
    {
     "name": "stdout",
     "output_type": "stream",
     "text": [
      "[25, 14, 22, 33, 2]\n"
     ]
    }
   ],
   "source": [
    "# Q.1-> What is List? How will you reverse a list? \n",
    "#ans:-A list is a data structure in Python that is a mutable,\n",
    "#    or changeable, ordered sequence of elements. Each element or value that is inside of a\n",
    "#    list is called an item. Just as strings are defined as characters between quotes,\n",
    "#   lists are defined by having values between square brackets [ ] .\n",
    "                  # :::  how will you reverse a list ? :::\n",
    "                            \n",
    "list1=[2,33,22,14,25]\n",
    "list1.reverse()       #use in method\n",
    "print(list1)"
   ]
  },
  {
   "cell_type": "code",
   "execution_count": 55,
   "id": "06159af9",
   "metadata": {},
   "outputs": [
    {
     "name": "stdout",
     "output_type": "stream",
     "text": [
      "[2, 33, 22, 14]\n"
     ]
    }
   ],
   "source": [
    "# Q.2->How will you remove last object from a list?Suppose list1 is [2, 33, 222, 14, and 25], what is list1 [-1]\n",
    "list1=[2,33,22,14,25]\n",
    "print(list1[:-1])\n"
   ]
  },
  {
   "cell_type": "code",
   "execution_count": null,
   "id": "d7f3c82c",
   "metadata": {},
   "outputs": [],
   "source": [
    "# Q.3-> Differentiate between append () and extend () methods?\n",
    "\n",
    "#append method\n",
    "list1=[\"apple\",\"banana\",\"mango\"]\n",
    "list1.append(10)           #use in method\n",
    "print(list1)\n",
    "\n",
    "#extend method\n",
    "list1=[\"apple\",\"mango\",\"coconutes\",]\n",
    "list2=[\"indigo\",\"air india\",\"vistra\"]\n",
    "list1.extend(list2)              #use for method\n",
    "print(list1)"
   ]
  },
  {
   "cell_type": "code",
   "execution_count": 47,
   "id": "2782169b",
   "metadata": {},
   "outputs": [
    {
     "name": "stdout",
     "output_type": "stream",
     "text": [
      "Maximum number is list :  334\n",
      "Minmum nuber is list :  4\n",
      "338\n"
     ]
    }
   ],
   "source": [
    "# Q.4->Write a Python function to get the largest number, smallest num and sum of all from a list\n",
    "list1=[12,334,4,56,67]\n",
    "print(\"Maximum number is list : \", max(list1))\n",
    "print(\"Minmum nuber is list : \", min(list1))\n",
    "sum = max(list1) + min(list1)\n",
    "print(sum)"
   ]
  },
  {
   "cell_type": "code",
   "execution_count": 1,
   "id": "4043dabe",
   "metadata": {},
   "outputs": [
    {
     "name": "stdout",
     "output_type": "stream",
     "text": [
      "enter total num of list1: 2\n",
      "enter value:-43\n",
      "enter value:-43\n",
      "Orignal list1: [43, 43]\n",
      "enter total num of list2: 2\n",
      "enter value:-56\n",
      "enter value:-65\n",
      "Orignal list2: [56, 65]\n",
      "\n",
      "\n",
      "Asending list1 [43, 43]\n",
      "Asending list2 [56, 65]\n",
      "list1 & list2 are not equal\n"
     ]
    }
   ],
   "source": [
    "# Q.5->How will you compare two lists?\n",
    "\n",
    "list1=[]   # usar input list\n",
    "num=int(input(\"enter total num of list1: \"))\n",
    "for i in range(0,num):\n",
    "    list1.append(int(input(\"enter value:-\")))\n",
    "print(\"Orignal list1:\",list1)\n",
    "list2=[]   # usar input list\n",
    "num=int(input(\"enter total num of list2: \"))\n",
    "for i in range(0,num):\n",
    "    list2.append(int(input(\"enter value:-\")))\n",
    "print(\"Orignal list2:\",list2)\n",
    "print(\"\\n\")       #use in space\n",
    "list1.sort()        \n",
    "list2.sort()      #use in method    \n",
    "print(\"Asending list1\",list1)\n",
    "print(\"Asending list2\",list2)\n",
    "if list1== list2 :           #use in eqval commbain\n",
    "    print(\"list1 and list2 are equal\")\n",
    "else:\n",
    "    print(\"list1 & list2 are not equal\")"
   ]
  },
  {
   "cell_type": "code",
   "execution_count": 2,
   "id": "0399bc0b",
   "metadata": {
    "scrolled": true
   },
   "outputs": [
    {
     "name": "stdout",
     "output_type": "stream",
     "text": [
      "enter total num of list1: 4\n",
      "enter value:-gjhf\n",
      "enter value:-uyu\n",
      "enter value:-vnbn\n",
      "enter value:-131\n",
      "['gjhf', 'uyu', 'vnbn', '131']\n",
      "uyu\n",
      "131\n",
      "same count is [2]\n"
     ]
    }
   ],
   "source": [
    "# Q.6->Write a Python program to count the number of strings where the string \n",
    "#length is 2 or more and the first and last character are same from a given \n",
    "#list of strings.\n",
    "\n",
    "list1=[]   # usar input list\n",
    "num=int(input(\"enter total num of list1: \"))\n",
    "for i in range(0,num):\n",
    "    list1.append((input(\"enter value:-\")))     #method useing \n",
    "print(list1)    \n",
    "c=0   \n",
    "for i in list1:\n",
    "    if len(i) >=2 and i[0] == i[-1]:          #use in count method\n",
    "        print(i)\n",
    "        c+=1\n",
    "print(\"same count is\",[c]) \n"
   ]
  },
  {
   "cell_type": "code",
   "execution_count": 26,
   "id": "cb62722d",
   "metadata": {
    "scrolled": true
   },
   "outputs": [
    {
     "name": "stdout",
     "output_type": "stream",
     "text": [
      "[10, 2, 20, 50, 40, 60, 70, 80]\n",
      "{2, 70, 40, 10, 80, 50, 20, 60}\n",
      "[2, 70, 40, 10, 80, 50, 20, 60]\n"
     ]
    }
   ],
   "source": [
    "# Q.7->Write a Python program to remove duplicates from a list.\n",
    "\n",
    "list1=[10,2,20,20,10,50,50,40,60,70,80]\n",
    "y=[]                              # item in orignal\n",
    "for i in list1:\n",
    "    if i not in y:\n",
    "        y.append(i)               #method use \n",
    "print(y)\n",
    "\n",
    "list1=set(list1)                  # use in method\n",
    "list2=list(list1)\n",
    "print(list1)\n",
    "print(list2)"
   ]
  },
  {
   "cell_type": "code",
   "execution_count": 1,
   "id": "ce1a653b",
   "metadata": {},
   "outputs": [
    {
     "name": "stdout",
     "output_type": "stream",
     "text": [
      "list is not Empty\n",
      "list is Empty\n"
     ]
    }
   ],
   "source": [
    "# Q.8-> Write a Python program to check a list is empty or not.\n",
    "# list3=[]\n",
    "# num=int(input(\"enter of element: \"))       #use in input\n",
    "# for i in range(0,num):                   \n",
    "#     list3.append(int(input(\"enter value :\")))   #use method\n",
    "#     print(\"list is empty\")                     \n",
    "# else:\n",
    "#     print(\"not empty\")\n",
    "    \n",
    "# print(list3)\n",
    "\n",
    "list1=[12,212]\n",
    "list2=[]\n",
    "if len(list1) == 0:\n",
    "    print(\"list is Empty\")\n",
    "else:\n",
    "    print(\"list is not Empty\")\n",
    "    \n",
    "list2=[]\n",
    "if len(list2) == 0:\n",
    "    print(\"list is Empty\")\n",
    "else:\n",
    "    print(\"list is not Empty\")    \n",
    "\n"
   ]
  },
  {
   "cell_type": "code",
   "execution_count": 47,
   "id": "4d255020",
   "metadata": {},
   "outputs": [
    {
     "name": "stdout",
     "output_type": "stream",
     "text": [
      "commen item 5\n"
     ]
    }
   ],
   "source": [
    "# Q.9->Write a Python function that takes two lists and returns true if they have at least one common member.\n",
    "list1=[1,2,3,4,5]                                #users value\n",
    "list2=[5,6,7,8,9]\n",
    "for a in list1:                                   #loop in use\n",
    "    for b in list2:\n",
    "        if a==b:\n",
    "            print(f\"commen item {a}\")\n",
    "# def Coman(list1,list2):\n",
    "#     for a in list1:\n",
    "#         for b in list2:\n",
    "#             if a==b:\n",
    "#                 print(f\"two list is coman num is {a}\")\n",
    "#                 return True\n",
    "#             else:\n",
    "#                 False\n",
    "# print(Coman([1,2,8,4,5],[5,6,7,99,9,2]))\n",
    "\n",
    "      \n",
    "      "
   ]
  },
  {
   "cell_type": "code",
   "execution_count": 42,
   "id": "3f745eca",
   "metadata": {},
   "outputs": [
    {
     "name": "stdout",
     "output_type": "stream",
     "text": [
      "1,2,3,4,5,6,7,8,9,10,11,12,13,14,15,16,17,18,19,20,21,22,23,24,25,26,27,28,29,30,\n",
      " [1, 4, 9, 16, 25]\n",
      "[676, 729, 784, 841, 900]\n"
     ]
    }
   ],
   "source": [
    "# Q.10->Write a Python program to generate and print a list of first and last 5 \n",
    "#        elements where the values are square of numbers between 1 and 30.\n",
    "\n",
    "\n",
    "def printValues():                           #fuction in use\n",
    "    l = list()\n",
    "    for i in range(1,31):                    #loop use\n",
    "        l.append(i**2)\n",
    "        print(i,end=\",\")                     #value in and space \n",
    "    print(\"\\n\",l[:5])                            #next line \n",
    "    print(l[-5:])\n",
    "\n",
    "printValues()"
   ]
  },
  {
   "cell_type": "code",
   "execution_count": 81,
   "id": "6cc442ae",
   "metadata": {},
   "outputs": [
    {
     "name": "stdout",
     "output_type": "stream",
     "text": [
      "{1, 2, 67, 3, 65, 5, 6, 8, 9, 45}\n"
     ]
    }
   ],
   "source": [
    " #Q.11-> Write a Python function that takes a list and returns a new list with unique elements of the first list. \n",
    "\n",
    "# def unique(a):                             #fuctin use \n",
    "#     x= []                       #value add in \n",
    "#     for i in a:           \n",
    "#          if i not in x:           #orignal value in\n",
    "#             x.append(i)\n",
    "#     retune (x)\n",
    "# print(f([1,2,3,23,45,45,]))\n",
    "    \n"
   ]
  },
  {
   "cell_type": "code",
   "execution_count": 10,
   "id": "54d480f3",
   "metadata": {},
   "outputs": [
    {
     "name": "stdout",
     "output_type": "stream",
     "text": [
      "jayswaminarayan\n"
     ]
    }
   ],
   "source": [
    "# Q.12 Write a Python program to convert a list of characters into a string.\n",
    "list1=['j','a','y','s','w','a','m','i','n','a','r','a','y','a','n']   #users value\n",
    "str1=\"\".join(list1)            #method use \n",
    "print(str1)"
   ]
  },
  {
   "cell_type": "code",
   "execution_count": 75,
   "id": "3cfecfc4",
   "metadata": {},
   "outputs": [
    {
     "name": "stdout",
     "output_type": "stream",
     "text": [
      "apple\n"
     ]
    }
   ],
   "source": [
    "# Q.13 Write a Python program to select an item randomly from a list. \n",
    "import random       #fuction in use\n",
    "list1=[\"apple\",\"Banana\",\"Mengo\",\"Kiwi\",\"Chearry\"]         #users value\n",
    "print(random.choice(list1))"
   ]
  },
  {
   "cell_type": "code",
   "execution_count": 82,
   "id": "60495683",
   "metadata": {},
   "outputs": [
    {
     "name": "stdout",
     "output_type": "stream",
     "text": [
      "[4, 5, 7, 7, 8, 8, 9, 9, 15, 44, 65, 88]\n",
      "5\n"
     ]
    }
   ],
   "source": [
    "# Q.14 Write a Python program to find the second smallest number in a list. \n",
    "list1=[15,44,8,4,7,88,8,9,9,7,65,5,]\n",
    "list1.sort()                #method use\n",
    "print(list1)\n",
    "print(list1[1])\n"
   ]
  },
  {
   "cell_type": "code",
   "execution_count": 14,
   "id": "0a3a92bb",
   "metadata": {},
   "outputs": [
    {
     "name": "stdout",
     "output_type": "stream",
     "text": [
      "{0, 1, 2, 3, 4, 5, 6, 8, 9, 78}\n"
     ]
    }
   ],
   "source": [
    "# Q.15 Write a Python program to get unique values from a list.\n",
    "list1=[1,2,3,4,5,6,6,78,8,9,4,3,2,1,0]\n",
    "str1=set(list1)                   #method use\n",
    "print(str1)"
   ]
  },
  {
   "cell_type": "code",
   "execution_count": 73,
   "id": "bed4191e",
   "metadata": {},
   "outputs": [
    {
     "name": "stdout",
     "output_type": "stream",
     "text": [
      "Enter the main list (separated by commas): 12\n",
      "Enter the sub list (separated by commas): 121\n",
      "Sub list is not in main list\n"
     ]
    }
   ],
   "source": [
    "# Q.16 Write a Python program to check whether a list contains a sub list .\n",
    "\n",
    "main_list = input(\"Enter the main list (separated by commas): \").split(\",\") #creat bvalue and method use \n",
    "sub_list = input(\"Enter the sub list (separated by commas): \").split(\",\") \n",
    "\n",
    "\n",
    "main_list = [int(i) for i in main_list]          #loop for count\n",
    "sub_list = [int(i) for i in sub_list]\n",
    "\n",
    "\n",
    "if all(elem in main_list for elem in sub_list):\n",
    "    print(\"Sub list is in main list\")\n",
    "else:\n",
    "    print(\"Sub list is not in main list\")\n"
   ]
  },
  {
   "cell_type": "code",
   "execution_count": 8,
   "id": "b6911ab4",
   "metadata": {},
   "outputs": [
    {
     "name": "stdout",
     "output_type": "stream",
     "text": [
      "value 1 ('Apple', 'Banana', 'Apricot')\n",
      "value 2 ('Papaya', 'Peach', 'Rose', 'appleWater', 3, 21, 21, '#RDSREDSD')\n",
      "value 3 ('apple', ('Raspberries', 'Strawberries', 'Starfruit', 'Carambola', ('Tangerine', 'Td54,54,54,56'), 'Watermelon', 'Sapota'))\n"
     ]
    }
   ],
   "source": [
    "# Q.17 Write a Python program to split a list into different variables.\n",
    "\n",
    "fruits=[(\"Apple\",\"Banana\",\"Apricot\",),\n",
    "(\"Papaya\",\"Peach\",\"Rose\", \"appleWater\",3,21,21,\"#RDSREDSD\") ,(\"apple\",            #users value\n",
    "(\"Raspberries\",\"Strawberries\",\"Starfruit\",\"Carambola\",\n",
    "(\"Tangerine\",\"Td54,54,54,56\"),\"Watermelon\",\"Sapota\"))]\n",
    "list1,list2,list3=fruits                             #3 variable\n",
    "print(\"value 1\",(list1))\n",
    "print(\"value 2\",(list2))\n",
    "print(\"value 3\",(list3))         "
   ]
  },
  {
   "cell_type": "code",
   "execution_count": null,
   "id": "59987b11",
   "metadata": {},
   "outputs": [],
   "source": [
    "# Q.18 What is tuple? Difference between list and tuple. \n",
    "\n",
    "1.  In programming languages, such as Lisp, Python, Linda, and others, a tuple (pronounced TUH-pul) is an ordered set of values. \n",
    "The separator for each value is often a comma (depending on the rules of the particular language).\n",
    "\n",
    "\n",
    "\n",
    "\n",
    "                  \tLIST                                                         \tTUPLE     \n",
    "1\tLists are mutable\tTuples are immutable\n",
    "2\tThe implication of iterations is Time-consuming        \tThe implication of iterations is comparatively Faster\n",
    "3\tThe list is better for performing operations,\n",
    "    such as insertion and deletion.                        \tTuple data type is appropriate for accessing the elements\n",
    "4\tLists consume more memory                              \tTuple consumes less memory as compared to the list\n",
    "5\tLists have several built-in methods                    \tTuple does not have many built-in methods.\n",
    "6\tThe unexpected changes and errors are more             \tIn tuple, it is hard to take place.\n",
    "    likely to occur "
   ]
  },
  {
   "cell_type": "code",
   "execution_count": 13,
   "id": "7ca6421f",
   "metadata": {},
   "outputs": [
    {
     "name": "stdout",
     "output_type": "stream",
     "text": [
      "('gsgh', True, 21, 23.4)\n"
     ]
    }
   ],
   "source": [
    "# Q.19 Write a Python program to create a tuple with different data types. \n",
    "\n",
    "tuple1=(\"gsgh\",True,21,23.4)\n",
    "print(tuple1)         #type for method use\n",
    "\n"
   ]
  },
  {
   "cell_type": "code",
   "execution_count": 1,
   "id": "7486fae6",
   "metadata": {},
   "outputs": [
    {
     "name": "stdout",
     "output_type": "stream",
     "text": [
      "(1, 2, 3, 4, 5, 6)\n"
     ]
    }
   ],
   "source": [
    "# Q.20 Write a Python program to create a tuple with numbers.\n",
    "tuple1=(1,2,3,4,5,6)\n",
    "print(tuple1)   #use in method only value"
   ]
  },
  {
   "cell_type": "code",
   "execution_count": 5,
   "id": "98d87cb4",
   "metadata": {},
   "outputs": [
    {
     "name": "stdout",
     "output_type": "stream",
     "text": [
      "pramukh\n"
     ]
    }
   ],
   "source": [
    "# Q.21 Write a Python program to convert a tuple to a string. \n",
    "tuple1=('p','r','a','m','u','k','h'),\n",
    "str1=''.join(tuple1)           #method use in \n",
    "print(str1)"
   ]
  },
  {
   "cell_type": "code",
   "execution_count": 11,
   "id": "bc503b57",
   "metadata": {},
   "outputs": [
    {
     "name": "stdout",
     "output_type": "stream",
     "text": [
      "True\n"
     ]
    }
   ],
   "source": [
    "# Q.22 Write a Python program to check whether an element exists within a tuple.\n",
    "\n",
    "tuple1=(\"p\",\"r\",\"m\",\"u\",\"k\",\"h\")\n",
    "print(\"k\" in tuple1)        #true and false in method\n"
   ]
  },
  {
   "cell_type": "code",
   "execution_count": 15,
   "id": "393d1d8c",
   "metadata": {},
   "outputs": [
    {
     "name": "stdout",
     "output_type": "stream",
     "text": [
      "jay swaminarayan yutvik\n",
      "6\n"
     ]
    }
   ],
   "source": [
    "# Q.23 Write a Python program to find the length of a tuple.\n",
    "tuple1=input(\"jay swaminarayan \")    #creat in users\n",
    "print(len(tuple1))   #method in use"
   ]
  },
  {
   "cell_type": "code",
   "execution_count": 20,
   "id": "442c1964",
   "metadata": {},
   "outputs": [
    {
     "name": "stdout",
     "output_type": "stream",
     "text": [
      "(1, 2, 3, 4, 5, 6)\n"
     ]
    }
   ],
   "source": [
    "# Q.24  Write a Python program to convert a list to a tuple.\n",
    "list1=[1,2,3,4,5,6]           # users value\n",
    "list1=tuple(list1)                 #method in use \n",
    "print(list1)"
   ]
  },
  {
   "cell_type": "code",
   "execution_count": 37,
   "id": "fa7f7ac5",
   "metadata": {},
   "outputs": [
    {
     "name": "stdout",
     "output_type": "stream",
     "text": [
      "enter your name: ram sitaji\n",
      "ijatis mar\n"
     ]
    }
   ],
   "source": [
    "# Q.25 Write a Python program to reverse a tuple.\n",
    "tuple1=input(\"enter your name: \")   #creat value\n",
    "tuple2=tuple2[: :-1] \n",
    "print(reversed_tuple)       #method name"
   ]
  },
  {
   "cell_type": "code",
   "execution_count": 12,
   "id": "ec519a03",
   "metadata": {},
   "outputs": [
    {
     "name": "stdout",
     "output_type": "stream",
     "text": [
      "[(1, 2, 'Ram'), (4, 5, 'Ram'), (7, 8, 'Ram')]\n"
     ]
    }
   ],
   "source": [
    "# Q.26  Write a Python program to replace last value of tuples in a list.\n",
    "tuple1= [(1, 2, 3), (4, 5, 6), (7, 8, 9)]  #value\n",
    "print([i[:-1]+('Ram',)for i in tuple1])      #loop use in method\n"
   ]
  },
  {
   "cell_type": "code",
   "execution_count": 42,
   "id": "5dc9dc4d",
   "metadata": {},
   "outputs": [
    {
     "name": "stdout",
     "output_type": "stream",
     "text": [
      "2\n"
     ]
    }
   ],
   "source": [
    "# Q.27 Write a Python program to find the repeated items of a tuple.\n",
    "# tuple1=2,3,4,5,6,3,3,5,2,4,2,45,4,6,3,44,24         #value \n",
    "# tuple2=tuple1.count(5)                 #method use\n",
    "# print(tuple2)\n",
    "\n",
    "\n",
    "list1=()\n",
    "num=int(input(\"enter your num: \"))\n"
   ]
  },
  {
   "cell_type": "code",
   "execution_count": 4,
   "id": "d8320f2d",
   "metadata": {},
   "outputs": [
    {
     "name": "stdout",
     "output_type": "stream",
     "text": [
      "[(21, 43, 65), (1, 3, 4, 45)]\n"
     ]
    }
   ],
   "source": [
    "# Q.28  Write a Python program to remove an empty tuple(s) from a list of tuples.\n",
    "list1=[(21,43,65),(),(),(1,3,4,45),(),]   #value in\n",
    "list2=list1.copy()                #metod use \n",
    "for tuple1 in list1:                # loop enter\n",
    "    if (len(tuple1)==0):\n",
    "        list2.remove(tuple1)       #method in use\n",
    "print(list2)"
   ]
  },
  {
   "cell_type": "code",
   "execution_count": 23,
   "id": "32d80d7c",
   "metadata": {},
   "outputs": [
    {
     "name": "stdout",
     "output_type": "stream",
     "text": [
      "[1, 3, 2, 3, 4, 56, 3, 2]\n"
     ]
    }
   ],
   "source": [
    "list1=[1,2,3,2,3,4,56,3,2]\n",
    "list1.remove(2)              #method use for new value\n",
    "print(list1)"
   ]
  },
  {
   "cell_type": "code",
   "execution_count": 2,
   "id": "3167bb95",
   "metadata": {},
   "outputs": [
    {
     "name": "stdout",
     "output_type": "stream",
     "text": [
      "[(1, 4), (2, 5), (3, 6)]\n"
     ]
    }
   ],
   "source": [
    "# Q.29  Write a Python program to unzip a list of tuples into individual lists. \n",
    "\n",
    "\n",
    "l1=[(1,2,3),(4,5,6)]\n",
    "print(list(zip(*l1)))    #use in method"
   ]
  },
  {
   "cell_type": "code",
   "execution_count": 5,
   "id": "50fc2b4c",
   "metadata": {},
   "outputs": [
    {
     "name": "stdout",
     "output_type": "stream",
     "text": [
      "My Dictionary {'html': 45, 'python': 13, 'hallo': 33}\n"
     ]
    }
   ],
   "source": [
    "# Q.30  Write a Python program to convert a list of tuples into a dictionary. \n",
    "list_tuple=[(\"html\",45),(\"python\",13),(\"hallo\",33)]   #diffrent value \n",
    "a=dict(list_tuple)          #method use\n",
    "print('My Dictionary',a)"
   ]
  },
  {
   "cell_type": "code",
   "execution_count": 10,
   "id": "089fa002",
   "metadata": {},
   "outputs": [
    {
     "name": "stdout",
     "output_type": "stream",
     "text": [
      "{'a': 1, 'b': 2, 'c': 3}\n"
     ]
    }
   ],
   "source": [
    "# Q.31-How will you create a dictionary using tuples in python?\n",
    "dic1=(('a',1),('b',2),('c',3))  #use in dictionary method\n",
    "dic2=dict(dic1)   # method\n",
    "print(dic2)\n"
   ]
  },
  {
   "cell_type": "code",
   "execution_count": null,
   "id": "aacb7295",
   "metadata": {},
   "outputs": [],
   "source": [
    "# Q>32  "
   ]
  },
  {
   "cell_type": "code",
   "execution_count": 105,
   "id": "f2f85fb6",
   "metadata": {
    "scrolled": true
   },
   "outputs": [
    {
     "name": "stdout",
     "output_type": "stream",
     "text": [
      "orignal  {1: 'python', 2: 'java', 3: 'html', 4: 'php'}\n",
      "Ascending {1: 'python', 2: 'java', 3: 'html', 4: 'php'}\n",
      "Descending {4: 'php', 3: 'html', 2: 'java', 1: 'python'}\n"
     ]
    }
   ],
   "source": [
    "# Q.33 Write a Python script to sort (ascending and descending) a dictionary by value.\n",
    "dict1={1:'python',2:'java',3:'html',4:'php'}        # value creat\n",
    "print(\"orignal \",dict1)\n",
    "dict3={}                # stor this varible\n",
    "dict2=sorted(dict1.items())       #method \n",
    "for i,a in dict2:\n",
    "    dict3.setdefault(i, a)             # method use \n",
    "print(\"Ascending\",dict3)\n",
    "dict3={}\n",
    "dict2=sorted(dict1.items(),reverse=True)         # diffrent method\n",
    "for i,a in dict2:\n",
    "    dict3.setdefault(i, a)   \n",
    "\n",
    "print(\"Descending\",dict3)"
   ]
  },
  {
   "cell_type": "code",
   "execution_count": 3,
   "id": "860645df",
   "metadata": {},
   "outputs": [
    {
     "name": "stdout",
     "output_type": "stream",
     "text": [
      "{'a': 1, 'b': 2, 'c': 3, 34: 45, 23: 3, 54: 68, 32: 44}\n"
     ]
    }
   ],
   "source": [
    "# Q.34 Write a Python script to concatenate following dictionaries to create a new one\n",
    "dict1={12:12,32:54}\n",
    "dic2={34:45,23:3}\n",
    "dic3={54:68,32:44}\n",
    "dic4={}                 #store this in value\n",
    "\n",
    "for i in (dic1,dic2,dic3):\n",
    "    dic4.update(i)         # method value\n",
    "print(dic4)      "
   ]
  },
  {
   "cell_type": "code",
   "execution_count": 3,
   "id": "84c3a209",
   "metadata": {},
   "outputs": [
    {
     "name": "stdout",
     "output_type": "stream",
     "text": [
      "enter your key: bike\n",
      "key is not present\n"
     ]
    }
   ],
   "source": [
    "# Q.35  Write a Python script to check if a given key already exists in a dictionary. \n",
    "a={\"car\":\"rangrover\",'brand':'L.P','flight':'british'}\n",
    "b=input(\"enter your key: \")           #creat users value\n",
    "if b in a.keys():\n",
    "    print(\"key is present\")             #positive ans\n",
    "else:\n",
    "    print(\"key is not present\")           # negetive an\n",
    "pass               # not error in use\n",
    "    \n"
   ]
  },
  {
   "cell_type": "code",
   "execution_count": null,
   "id": "4a3d66c8",
   "metadata": {},
   "outputs": [],
   "source": [
    "# Q.36 How Do You Traverse Through A Dictionary Object In Python? \n",
    "\n",
    "\n",
    "Using dict. items() Method. ...\n",
    "Using Keys() Method. ...\n",
    "Using Values() Method. ...\n",
    "Iterating with Index. ...\n",
    "Iterating Over Dictionary In Alphabetical Order. ...\n",
    "Sort Using Dictionary Item Values\n",
    "\n"
   ]
  },
  {
   "cell_type": "code",
   "execution_count": 14,
   "id": "9f93d366",
   "metadata": {},
   "outputs": [
    {
     "name": "stdout",
     "output_type": "stream",
     "text": [
      "enter your key:jhgj\n",
      "key not in presence\n"
     ]
    }
   ],
   "source": [
    "# Q.37 How Do You Check The Presence Of A Key In A Dictionary.\n",
    "a={\"car\":\"rangrover\",'brand':'L.P','flight':'british'}  #value in users\n",
    "d2=(input(\"enter your key:\"))\n",
    "if d2 in a.keys():\n",
    "    print(\"key in presence\")\n",
    "else:    #diffrent output in use this \n",
    "    print(\"key not in presence\")\n",
    "pass                       # not error in use\n",
    "     \n",
    "\n",
    "    \n",
    "\n"
   ]
  },
  {
   "cell_type": "code",
   "execution_count": 20,
   "id": "455d2e73",
   "metadata": {},
   "outputs": [
    {
     "name": "stdout",
     "output_type": "stream",
     "text": [
      "{1: 1, 2: 4, 3: 9, 4: 16, 5: 25, 6: 36, 7: 49, 8: 64, 9: 81, 10: 100, 11: 121, 12: 144, 13: 169, 14: 196, 15: 225}\n"
     ]
    }
   ],
   "source": [
    "# Q.38  Write a Python script to print a dictionary where the keys are numbers between 1 and 15.\n",
    "a=dict()         # creat value\n",
    "for i in range(1,16):\n",
    "    a[i]=i**2         #number is ...\n",
    "print(a)\n",
    "    \n",
    "    \n",
    "\n"
   ]
  },
  {
   "cell_type": "code",
   "execution_count": 41,
   "id": "5dcde0fc",
   "metadata": {},
   "outputs": [
    {
     "name": "stdout",
     "output_type": "stream",
     "text": [
      "Enter how many key:2\n",
      "enter your key:dsd\n",
      "dsd\n",
      "False\n",
      "enter your key:sdds\n",
      "sdds\n",
      "False\n"
     ]
    }
   ],
   "source": [
    "# Q.39 Write a Python program to check multiple keys exists in a dictionary \n",
    "\n",
    "a={'python':1,'java':2,'css':3,'php':4, 'php':5}\n",
    "b ={}              # store\n",
    "num = int(input(\"Enter how many key:\"))# enter the value in use \n",
    "for i in range(1, num+1):  # loop in use\n",
    "    c=(input(\"enter your key:\"))# new \n",
    "    print(c) \n",
    "# for i in a.keys():\n",
    "    if c in a.keys():  # value in convert\n",
    "        print(c)\n",
    "        print(\"True\")  \n",
    "    else:              # output diffrent in use\n",
    "        print(\"False\")  "
   ]
  },
  {
   "cell_type": "code",
   "execution_count": 46,
   "id": "07472bb8",
   "metadata": {},
   "outputs": [
    {
     "name": "stdout",
     "output_type": "stream",
     "text": [
      "{'x': 1, 'y': 2, 'a': 3, 'b': 4}\n"
     ]
    }
   ],
   "source": [
    "# Q.40  Write a Python script to merge two Python dictionaries.\n",
    "a={'x':1,'y':2}  #users value\n",
    "b={'a':3,'b':4}\n",
    "a.update(b)       # method for use\n",
    "print(a)\n",
    "    \n"
   ]
  },
  {
   "cell_type": "code",
   "execution_count": 26,
   "id": "d1e685dd",
   "metadata": {},
   "outputs": [
    {
     "name": "stdout",
     "output_type": "stream",
     "text": [
      "{'23': 'python', '233': 'php', '55': 'java'}\n"
     ]
    }
   ],
   "source": [
    "# Q.41  Write a Python program to map two lists into a dictionary .\n",
    "\n",
    "keys=[\"23\",\"233\",\"55\",\"67\"]   #value name\n",
    "value=[\"python\",\"php\",\"java\"]\n",
    "list1=dict(zip(keys,value))   #use for method\n",
    "print(list1)"
   ]
  },
  {
   "cell_type": "code",
   "execution_count": 41,
   "id": "4d24d96e",
   "metadata": {},
   "outputs": [
    {
     "name": "stdout",
     "output_type": "stream",
     "text": [
      "{'a': 400, 'b': 400, 'c': 300, 'd': 400}\n"
     ]
    }
   ],
   "source": [
    "# Q.42 Write a Python program to combine two dictionary adding values for common keys\n",
    "# d1 = {'a': 100, 'b': 200, 'c':300} o d2 = {'a': 300, 'b': 200,’d’:400} \n",
    "# Sample output: Counter ({'a': 400, 'b': 400,’d’: 400, 'c': 300}).\n",
    "\n",
    "d1= {'a': 100, 'b': 200, 'c':300}\n",
    "d2 = {'a': 300, 'b': 200,'d':400}    #value users in\n",
    "\n",
    "for items in d2.keys():          # loop start and method use\n",
    "    if items in d1.keys():\n",
    "        d1[items]+= d2[items]          # cvalue in convert\n",
    "else:\n",
    "    d1[items]= d2[items] 3 #equvel value  \n",
    "print(d1)    \n",
    "   \n",
    "# for key, value in d1.items():\n",
    "#     print(key,value)\n"
   ]
  },
  {
   "cell_type": "code",
   "execution_count": 68,
   "id": "0ec92dc9",
   "metadata": {},
   "outputs": [
    {
     "name": "stdout",
     "output_type": "stream",
     "text": [
      "{1, 2, 3}\n"
     ]
    }
   ],
   "source": [
    "# Q.43 Write a Python program to print all unique values in a dictionary. \n",
    "ditc1={\"a\":1,\"b\":2,\"c\":3,\"a\":1,\"b\":2,\"c\":3}   # value \n",
    "new=set(ditc1.values())          #use method \n",
    "print(new)\n",
    "\n",
    "\n"
   ]
  },
  {
   "cell_type": "code",
   "execution_count": 32,
   "id": "28663632",
   "metadata": {},
   "outputs": [],
   "source": [
    "# Q.44  Why Do You Use the Zip () Method in Python ?\n",
    "a = (\"John\", \"Charles\", \"Mike\")\n",
    "b = (\"Jenny\", \"Christy\", \"Monica\")\n",
    "\n",
    "x = zip(a, b)      # method \n"
   ]
  },
  {
   "cell_type": "code",
   "execution_count": 28,
   "id": "8ef5973f",
   "metadata": {},
   "outputs": [
    {
     "name": "stdout",
     "output_type": "stream",
     "text": [
      "ac ad bc bd "
     ]
    }
   ],
   "source": [
    "# Q.45  Write a Python program to create and display all combinations of letters, \n",
    "# selecting each letter from a different key in a dictionary. \n",
    "# Sample data: {'1': ['a','b'], '2': ['c','d']} \n",
    "# Expected Output: ac ad bc bd \n",
    "\n",
    "dict1={'1': ['a','b'], '2': ['c','d']}               # users valus\n",
    "list1=list(dict1.values())\n",
    "for i in list1[0]:    # loop start\n",
    "    for a in list1[1]:\n",
    "        print(i+a,end=\" \")  #pluse in ans "
   ]
  },
  {
   "cell_type": "code",
   "execution_count": 30,
   "id": "a31d8a6d",
   "metadata": {},
   "outputs": [
    {
     "name": "stdout",
     "output_type": "stream",
     "text": [
      "['a', 'b', 'c', 'd', 'e']\n",
      "Highest 3 values {}\n"
     ]
    }
   ],
   "source": [
    "# Q.46  Write a Python program to find the highest 3 values in a dictionary \n",
    "dict1={'a':100,'d':200,'e':300,'b':400,'c':600}  #key and value  \n",
    "list1=sorted(dict1)           # method use\n",
    "print(list1)\n",
    "# num=input(\"enter your num: \")\n",
    "list2={}   # store in use\n",
    "for key in dict1:\n",
    "    if dict1[key]in list1[-3:]:  # method use \n",
    "        list2.append[key]\n",
    "print(\"Highest 3 values\",list2)        \n",
    "\n"
   ]
  },
  {
   "cell_type": "code",
   "execution_count": 130,
   "id": "e908efe8",
   "metadata": {},
   "outputs": [
    {
     "name": "stdout",
     "output_type": "stream",
     "text": [
      "{'item1': 1150, 'item2': 1486, 'item3': 1050, 'item4': 2056}\n"
     ]
    }
   ],
   "source": [
    "# Q.47  Write a Python program to combine values in python list of dictionaries. \n",
    "# Sample data: [{'item': 'item1', 'amount': 400}, {'item': 'item2', 'amount': \n",
    "# 300}, o {'item': 'item1', 'amount': 750}] \n",
    "# Expected Output:\n",
    "# Counter ({'item1': 1150, 'item2': 1286,'item3':1050}) \n",
    "\n",
    "a=[{'item': 'item1', 'amount': 400}, {'item': 'item2', 'amount': 300},        #keys and values\n",
    "             {'item': 'item1', 'amount': 750},{'item': 'item2', 'amount': 986},\n",
    "   {'item': 'item3', 'amount': 1050},{'item': 'item2', 'amount': 200},{'item': 'item4', 'amount': 2056}]\n",
    "list1=[]          # use for store in \n",
    "for i in a:\n",
    "     list1.append(tuple(i.values()))   # method \n",
    "dict1={}        3 add value in use\n",
    "for i in list1:\n",
    "    if i[0] in dict1.keys(): # cheng method\n",
    "        dict1.update({i[0]:dict1[i[0]]+i[1]})  # method use\n",
    "    else:\n",
    "        dict1.update({i[0]:i[1]})\n",
    "print(dict1)\n",
    "\n",
    "\n",
    "\n"
   ]
  },
  {
   "cell_type": "code",
   "execution_count": 105,
   "id": "9b7a36df",
   "metadata": {},
   "outputs": [
    {
     "name": "stdout",
     "output_type": "stream",
     "text": [
      "{'w': 1, '3': 1, 'r': 2, 'e': 2, 's': 1, 'o': 1, 'u': 1, 'c': 1}\n"
     ]
    }
   ],
   "source": [
    "# Q.48 write a Python program to create a dictionary from a string. \n",
    "# Note: Track the count of the letters from the string. \n",
    "# Sample string: 'w3resource' \n",
    "# Expected output: \n",
    "# {'3': 1,’s’: 1, 'r': 2, 'u': 1, 'w': 1, 'c': 1, 'e': 2, 'o': 1} \n",
    " \n",
    "dict1='w3resource'                # count latters\n",
    "dict2={letter:dict1.count(letter) for letter in dict1}          # method and loop use\n",
    "print(dict2)\n",
    "\n",
    "   "
   ]
  },
  {
   "cell_type": "code",
   "execution_count": 8,
   "id": "0a6ac432",
   "metadata": {},
   "outputs": [
    {
     "name": "stdout",
     "output_type": "stream",
     "text": [
      "enter your num: -3\n",
      "\u001b[31mfectorial num is negative\n",
      "factorial of a num:  1\n"
     ]
    }
   ],
   "source": [
    "# Q.49  Write a Python function to calculate the factorial of a number (a nonnegative integer)\n",
    "from colorama import Fore                #function use\n",
    "num=int(input(\"enter your num: \"))          # creat value\n",
    "fact=1               #count fect\n",
    "if num<0:\n",
    "    print(Fore.RED+\"fectorial num is negative\")\n",
    "elif num==0:             # diffrent out put in use\n",
    "    print(\"num equal to zero\")\n",
    "else:\n",
    "      for i in range(1,num):           # loop in use\n",
    "          fact=fact*i\n",
    "print(\"factorial of a num: \",fact)          "
   ]
  },
  {
   "cell_type": "code",
   "execution_count": 11,
   "id": "462bd939",
   "metadata": {},
   "outputs": [
    {
     "name": "stdout",
     "output_type": "stream",
     "text": [
      "enter num :4\n",
      "\u001b[31mnum is under range\n"
     ]
    }
   ],
   "source": [
    "# Q.50 Write a Python function to check whether a number is in a given range.\n",
    "def chack_num(a):                  #function use\n",
    "    if num in range(0,31):           # loop start in count\n",
    "        print(Fore.RED+\"num is under range\")\n",
    "    else:                                         #diffrent value in use\n",
    "        print(\"num is not under range\")\n",
    "\n",
    "num=int(input(\"enter num :\"))        # creat value     \n",
    "chack_num(num)"
   ]
  },
  {
   "cell_type": "code",
   "execution_count": 45,
   "id": "f71bc141",
   "metadata": {},
   "outputs": [
    {
     "name": "stdout",
     "output_type": "stream",
     "text": [
      "enter your number: 48\n",
      "1\n",
      "2\n",
      "3\n",
      "4\n",
      "6\n",
      "8\n",
      "12\n",
      "16\n",
      "24\n",
      "the number is a not perfect number... \n"
     ]
    }
   ],
   "source": [
    "# Q.51 write a Python function to check whether a number is perfect or not.\n",
    "\n",
    "def perfect(n):                                 # diti in ues\n",
    "    sum=0              # value pluse  \n",
    "    for i in range(1,n):          #loop start \n",
    "            if n%i==0:\n",
    "                print(i)\n",
    "                sum=sum+i\n",
    "    if sum==n:               # eqval is same\n",
    "        print(\"the number is a perfect number..\")\n",
    "    else:\n",
    "        print(\"the number is a not perfect number... \")\n",
    "             \n",
    "n=int(input(\"enter your number: \"))            #creat value\n",
    "perfect(n)\n",
    "\n",
    "                \n"
   ]
  },
  {
   "cell_type": "code",
   "execution_count": 19,
   "id": "efbdabb6",
   "metadata": {},
   "outputs": [
    {
     "name": "stdout",
     "output_type": "stream",
     "text": [
      "enter the string:mom\n",
      "it is palindrome\n"
     ]
    }
   ],
   "source": [
    "# Q.52  Write a Python function that checks whether a passed string is palindrome or not \n",
    "\n",
    "def palindrome(x):\n",
    "    if x ==x[::-1]:\n",
    "        print(\"it is palindrome\")\n",
    "    else:\n",
    "        print(\"not\")\n",
    "x=input(\"enter the string:\")\n",
    "palindrome(x)"
   ]
  },
  {
   "cell_type": "code",
   "execution_count": null,
   "id": "a3edb2d6",
   "metadata": {},
   "outputs": [],
   "source": [
    "# Q.53  How Many Basic Types Of Functions Are Available In Python?\n",
    "\n",
    "Python gives us two basic types of functions.\n",
    "\n",
    "1. Built-in, and\n",
    "\n",
    "2. User-defined.\n",
    "\n",
    "The built-in functions happen to be part of the Python language. Some of these are print(), dir(), len(), and a"
   ]
  },
  {
   "cell_type": "code",
   "execution_count": 27,
   "id": "4d38867d",
   "metadata": {},
   "outputs": [
    {
     "name": "stdout",
     "output_type": "stream",
     "text": [
      "Item for tuple:  python\n"
     ]
    }
   ],
   "source": [
    "# Q.54  How can you pick a random item from a list or tuple?\n",
    "\n",
    "# To get random elements from sequence objects such as lists, tuples, strings in Python, use choice() , sample() , choices() of the random module.\n",
    "# choice() returns one random element, and sample() and choices() return a list of multiple random elements.\n",
    "\n",
    "# Similarly, What are the data items in a list called? A list is an ordered collection of values. \n",
    "# The values that make up a list are called its elements, or its items.\n",
    "# We will use the term element or item to mean the same thing.\n",
    "\n",
    "# How do you use random in Python? Random integer values can be generated with the randint() function. \n",
    "# This function takes two arguments: the start and the end of the range for the generated integer values. \n",
    "# Random integers are generated within and including the start and end of range values, specifically in the interval [start, end\n",
    "                                                                                                                    \n",
    "                                                                                                                    \n",
    "#example\n",
    "import random\n",
    "tuple1=(12,\"python\",7,\"code\",20,\"basic\")\n",
    "randomitem=random.choice(tuple1)                       #condition use \n",
    "print(\"Item for tuple: \",randomitem)"
   ]
  },
  {
   "cell_type": "code",
   "execution_count": 8,
   "id": "c2dfa444",
   "metadata": {},
   "outputs": [
    {
     "name": "stdout",
     "output_type": "stream",
     "text": [
      "Item of range:  24\n"
     ]
    }
   ],
   "source": [
    "# Q.55 How can you pick a random item from a range?\n",
    "\n",
    "# Use the random. randrange() function(Returns a random number within the specified range)\n",
    "# to generate a random number within the given range by passing minimum,\n",
    "# and maximum numbers as arguments\n",
    "\n",
    "#example\n",
    "import random\n",
    "x=random.randrange(1,25)                    #use in random method is any one range in others output chenging any time \n",
    "print(\"Item of range: \",x)"
   ]
  },
  {
   "cell_type": "code",
   "execution_count": 87,
   "id": "c62c5624",
   "metadata": {},
   "outputs": [
    {
     "name": "stdout",
     "output_type": "stream",
     "text": [
      "3\n"
     ]
    }
   ],
   "source": [
    "# Q.56 How can you get a random number in python?\n",
    "\n",
    "# Python Programming Language is gaining popularity among developers because of the wide range of features it provides to developers. \n",
    "# One such task is Generating Random Numbers.\n",
    "# Random Numbers are quite helpful when developing applications such as simulation games and some other scientific experiments.\n",
    "# Python provides a variety of functions for generating random Numbers.\n",
    "\n",
    "\n",
    "# example\n",
    "# Program to generate a random number between 0 and 9\n",
    "\n",
    "# importing the random module\n",
    "import random                            \n",
    "                  \n",
    "print(random.randint(0,9))                        #this methode is diffrent output in cheng to continue\n",
    "\n"
   ]
  },
  {
   "cell_type": "code",
   "execution_count": 46,
   "id": "ca49f5b4",
   "metadata": {},
   "outputs": [
    {
     "name": "stdout",
     "output_type": "stream",
     "text": [
      "0.46300735781502145\n"
     ]
    }
   ],
   "source": [
    "# Q.57 How will you set the starting value in generating random numbers? \n",
    "\n",
    "# As an AI language model, I don't actually generate random numbers directly.\n",
    "# However, I can tell you about the general concept of setting a starting value for random number generation.\n",
    "\n",
    "# When generating random numbers, it's common to use a pseudorandom number generator (PRNG) that generates a \n",
    "# sequence of seemingly random numbers based on a starting value called a seed.\n",
    "# The seed value determines the starting point of the sequence, and given the same seed, a PRNG will always generate the same sequence of nu\n",
    "\n",
    "\n",
    "# exampole:\n",
    "import random\n",
    "\n",
    "random.seed(9)                                    #method is float ans and in \n",
    "print(random.random())\n",
    "\n"
   ]
  },
  {
   "cell_type": "code",
   "execution_count": 43,
   "id": "fc06193a",
   "metadata": {},
   "outputs": [
    {
     "name": "stdout",
     "output_type": "stream",
     "text": [
      "[1, 3, 5, 4, 2]\n"
     ]
    }
   ],
   "source": [
    "# Q.58 How will you randomizes the items of a list in place?\n",
    "\n",
    "To randomize the items of a list in place, you can use the shuffle() function from the random module in Python.\n",
    "The shuffle() function shuffles the items of a list randomly.\n",
    "\n",
    "\n",
    "\n",
    "In this example, my_list is a list of integers. The shuffle() function is called on my_list, which shuffles the elements of the list randomly. \n",
    "The original list is modified in place, so there is no need to assign the result of the shuffle() function to a new variable.\n",
    "Finally, the shuffled list is printed to the console\n",
    "\n",
    "\n",
    "#example\n",
    "my_list = [1, 2, 3, 4, 5]\n",
    "random.shuffle(my_list)                          #use in mathod in shuffle in chaeng output refresh to diffrent output\n",
    "print(my_list)\n"
   ]
  },
  {
   "cell_type": "code",
   "execution_count": 2,
   "id": "3f285ebd",
   "metadata": {},
   "outputs": [],
   "source": [
    "# Q.59 Write a Python program to read a random line from a file. \n",
    "  \n",
    "import random                               # use in method \n",
    "f=open(\"demo2.txt\",\"r\")   # file name   read in file\n",
    "f.read()                       # file in  read in use\n",
    "f.close()"
   ]
  },
  {
   "cell_type": "code",
   "execution_count": 3,
   "id": "7cf00a15",
   "metadata": {},
   "outputs": [
    {
     "name": "stdout",
     "output_type": "stream",
     "text": [
      "Enter the degree value: 23\n",
      "23.0 degree is equal to 0.4014257279586958 radians\n"
     ]
    }
   ],
   "source": [
    "# Q.60 Write a Python program to convert degree to radian \n",
    "\n",
    "import math                         #fuction in use\n",
    "\n",
    "degree = float(input(\"Enter the degree value: \"))   #creat value in users\n",
    "radian = math.radians(degree)                                 # method use\n",
    "\n",
    "print(f\"{degree} degree is equal to {radian} radians\")\n"
   ]
  },
  {
   "cell_type": "code",
   "execution_count": 4,
   "id": "57c8c81d",
   "metadata": {},
   "outputs": [
    {
     "name": "stdout",
     "output_type": "stream",
     "text": [
      "Enter the length of the first base: 43\n",
      "Enter the length of the second base: 33\n",
      "Enter the height of the trapezoid: 43\n",
      "The area of the trapezoid is 1634.0\n"
     ]
    }
   ],
   "source": [
    "# Q.61  Write a Python program to calculate the area of a trapezoid.\n",
    "\n",
    "list1 = float(input(\"Enter the length of the first base: \"))\n",
    "list2 = float(input(\"Enter the length of the second base: \"))   # creat value\n",
    "height = float(input(\"Enter the height of the trapezoid: \"))\n",
    "\n",
    "area = ((list1 + list2) / 2) * height #use in method \n",
    "\n",
    "print(f\"The area of the trapezoid is {area}\")"
   ]
  },
  {
   "cell_type": "code",
   "execution_count": 7,
   "id": "79f99759",
   "metadata": {},
   "outputs": [
    {
     "name": "stdout",
     "output_type": "stream",
     "text": [
      "lenth of base: 43\n",
      "height of area: 33\n",
      "size of area:  1419.0\n"
     ]
    }
   ],
   "source": [
    "# Q.62  Write a Python program to calculate the area of a parallelogram \n",
    "\n",
    "base=float(input(\"lenth of base: \"))         #creat base value\n",
    "height=float(input(\"height of area: \"))  #creat height value\n",
    "area=(base*height)\n",
    "print(f\"size of area: \",area)"
   ]
  },
  {
   "cell_type": "code",
   "execution_count": null,
   "id": "fedcfa58",
   "metadata": {},
   "outputs": [],
   "source": [
    "# Q.63  Write a Python program to calculate surface volume and area of a cylinder\n",
    "\n",
    "pi=3.14              #fix this value \n",
    "height=float(input(\"enter your area: \"))#use for creat value\n",
    "redius=float(input(\"enter your area: \"))\n",
    "volume=pi*redius*redius*height\n",
    "surface_area=((2*pi*redius)*height)+((pi*redius**2)*2)  #use in method\n",
    "print(volume)\n",
    "print(surface_area)"
   ]
  },
  {
   "cell_type": "code",
   "execution_count": 8,
   "id": "21353d82",
   "metadata": {},
   "outputs": [
    {
     "name": "stdout",
     "output_type": "stream",
     "text": [
      "enter your num: 12\n",
      "28\n"
     ]
    }
   ],
   "source": [
    "# Q.64 Write a Python program to returns sum of all divisors of a number . \n",
    "\n",
    "num=int(input(\"enter your num: \"))\n",
    "divisor_sum=sum(i for i in range(1,num+1)if num % i==0)\n",
    "print(divisor_sum)"
   ]
  },
  {
   "cell_type": "code",
   "execution_count": 22,
   "id": "b2a42364",
   "metadata": {},
   "outputs": [
    {
     "name": "stdout",
     "output_type": "stream",
     "text": [
      "enter your num: 4\n",
      "enter value: 0.76\n",
      "enter value: 464\n",
      "enter value: 0.4\n",
      "Enter the value:  [0.76, 464.0, 0.4]\n",
      "The maximum number:  464.0\n",
      "The minimum number:  0.4\n"
     ]
    }
   ],
   "source": [
    "# Q.65 Write a Python program to find the maximum and minimum numbers from the specified decimal numbers.\n",
    "list1=[]                            # store in \n",
    "num=int(input(\"enter your num: \"))\n",
    "for i in range(1,num):                             # loop use\n",
    "    list1.append(float(input(\"enter value: \")))                # method use\n",
    "    \n",
    "print(\"Enter the value: \",list1)    \n",
    "print(\"The maximum number: \",max(list1))\n",
    "print(\"The minimum number: \",min(list1))"
   ]
  },
  {
   "cell_type": "code",
   "execution_count": null,
   "id": "426c062c",
   "metadata": {},
   "outputs": [],
   "source": []
  }
 ],
 "metadata": {
  "kernelspec": {
   "display_name": "Python 3 (ipykernel)",
   "language": "python",
   "name": "python3"
  },
  "language_info": {
   "codemirror_mode": {
    "name": "ipython",
    "version": 3
   },
   "file_extension": ".py",
   "mimetype": "text/x-python",
   "name": "python",
   "nbconvert_exporter": "python",
   "pygments_lexer": "ipython3",
   "version": "3.10.9"
  }
 },
 "nbformat": 4,
 "nbformat_minor": 5
}
