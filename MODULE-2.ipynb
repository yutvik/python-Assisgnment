{
 "cells": [
  {
   "cell_type": "code",
   "execution_count": 50,
   "id": "18f588c3",
   "metadata": {},
   "outputs": [
    {
     "name": "stdout",
     "output_type": "stream",
     "text": [
      "enter your value :-2\n",
      "num is negitive\n"
     ]
    }
   ],
   "source": [
    "#Q.1-->Write a Python program to check if a number is positive, negative or zero \n",
    "\n",
    "value=int(input(\"enter your value :\"))\n",
    "if value>0:                         #use for positive \n",
    "  print(\"num is positive\")\n",
    "elif value==0:                      #value is same\n",
    "  print(\"value is zero\")\n",
    "else:\n",
    "   print(\"num is negitive\")         #value is negitive"
   ]
  },
  {
   "cell_type": "code",
   "execution_count": 4,
   "id": "6b2e5882",
   "metadata": {},
   "outputs": [
    {
     "name": "stdout",
     "output_type": "stream",
     "text": [
      "enter your num: 8\n",
      "Factorial is [2]\n",
      "Factorial is [4]\n",
      "Factorial is [7]\n",
      "Factorial is [11]\n",
      "Factorial is [16]\n",
      "Factorial is [22]\n",
      "Factorial is [29]\n"
     ]
    }
   ],
   "source": [
    "#Q.2-->Write a Python program to get the Factorial number of given number\n",
    "num=int(input(\"enter your num: \"))\n",
    "fact=1                               # variable name \n",
    "for i in range(1,num):               #use in range \n",
    "    fact=i+fact                      #plue in value\n",
    "    print(\"Factorial is\",[fact])    "
   ]
  },
  {
   "cell_type": "code",
   "execution_count": 11,
   "id": "5d1ef11b",
   "metadata": {},
   "outputs": [
    {
     "name": "stdout",
     "output_type": "stream",
     "text": [
      "enter fibonacci series: 6\n",
      "0 1 1 2 3 5 8 "
     ]
    }
   ],
   "source": [
    "# 3. write a python program to get the fibonacci series of give range.\n",
    "num=int(input(\"enter fibonacci series: \"))\n",
    "#print(f\"fibonacci num is :{a}\")\n",
    "a,b=0,1\n",
    "x=0\n",
    "if num <=0:\n",
    "    print('number in greater than 0')\n",
    "else:\n",
    "    for i in range(0,num):\n",
    "        print(x,end=\" \")\n",
    "        a=b\n",
    "        b=x\n",
    "        x=a+b\n"
   ]
  },
  {
   "cell_type": "code",
   "execution_count": null,
   "id": "9ab784a8",
   "metadata": {},
   "outputs": [],
   "source": [
    "Q.4--> How memory is managed in Python?\n",
    "\n",
    "In Python, memory management is done automatically by the interpreter using a technique called \"garbage collection\". This means that when an object is no longer needed, the interpreter will automatically free up the memory it was using.\n",
    "\n",
    "Python's memory management is based on a reference counting algorithm. Every object in Python has a reference count, which is the number of references to the object. When the reference count drops to zero, the object is no longer needed and its memory is freed.\n",
    "\n",
    "In addition to reference counting, Python also uses a technique called \"cycle detection\" to handle circular references, which occur when two or more objects reference each other in a circular way. The cycle detector periodically checks for circular references and frees up the memory used by any cycles it finds.\n",
    "\n",
    "Python also has a mechanism for manual memory management using the gc module. This module provides functions for controlling the garbage collector, such as enabling or disabling it, setting thresholds for when it should run, and manually running it when needed.\n",
    "\n",
    "Overall, Python's automatic memory management and garbage collection make it easy to write code without having to worry too much about managing memory explicitly. However, it is still important to be aware of how memory is being used in your code and to avoid creating unnecessary objects or circular references.\n",
    "\n",
    "\n",
    "\n",
    "\n"
   ]
  },
  {
   "cell_type": "code",
   "execution_count": null,
   "id": "f421c774",
   "metadata": {},
   "outputs": [],
   "source": [
    "# 5. What is the purpose continue statement in python?\n",
    "   \n",
    "   Python Continue statement is a loop control statement that forces to execute the next\n",
    "    iteration of the loop while skipping the rest of the code inside the loop for the current \n",
    "    iteration only, i.e. when the continue statement is executed in the loop, the code inside the loop\n",
    "    following the continue statement will be skipped for the current iteration and the next iteration of \n",
    "    the loop will begin"
   ]
  },
  {
   "cell_type": "code",
   "execution_count": 2,
   "id": "8acff85a",
   "metadata": {
    "scrolled": true
   },
   "outputs": [
    {
     "name": "stdout",
     "output_type": "stream",
     "text": [
      "with swapping: \n",
      "a 67\n",
      "b 56\n",
      "without swapping: \n",
      "a 56\n",
      "b 67\n"
     ]
    }
   ],
   "source": [
    "# 6.Write python program that swap two number with temp variable and without temp variable .\n",
    "   \n",
    "\n",
    "a=56\n",
    "b=67\n",
    " \n",
    "temp=a                                  #with temp variable\n",
    "a=b\n",
    "b=temp\n",
    "print(\"with swapping: \")\n",
    "print(\"a\" ,a)\n",
    "print(\"b\" ,b)\n",
    "\n",
    "a=a+b                                   #without swapping\n",
    "b=a-b\n",
    "a=a-b\n",
    "print(\"without swapping: \")\n",
    "print(\"a\",  a)\n",
    "print(\"b\",  b)\n",
    "\n",
    "\n"
   ]
  },
  {
   "cell_type": "code",
   "execution_count": null,
   "id": "6949bffe",
   "metadata": {},
   "outputs": [],
   "source": [
    "# 7. Write a Python program to find whether a given number is even or odd,print out an appropriate message to the user.\n",
    "     \n",
    "\n",
    "value=int(input(\"enter your num: \"))       #value check\n",
    "if value%2==0:\n",
    "  print(\"number of even\")                  #check for even   \n",
    "elif value%2==1:\n",
    "  print(\"number of odd\")                   #check for odd "
   ]
  },
  {
   "cell_type": "code",
   "execution_count": null,
   "id": "75799572",
   "metadata": {},
   "outputs": [],
   "source": [
    "# 8.Write a Python program to test whether a passed letter is a vowel or not.\n",
    "\n",
    "str=(input(\"enter your charter: \"))       #user input\n",
    "\n",
    "if (str==\"a\" or str==\"e\" or str==\"i\" or str==\"o\" or str==\"u\"):  #chak for vowel value\n",
    "  print(\"samll vowel\")\n",
    "\n",
    "else:\n",
    "    print(\"other consolaten\")     #other charectar use\n",
    "    \n",
    "\n",
    "  #print(\"other charecters in consolten\")"
   ]
  },
  {
   "cell_type": "code",
   "execution_count": 51,
   "id": "a2641dd3",
   "metadata": {},
   "outputs": [
    {
     "name": "stdout",
     "output_type": "stream",
     "text": [
      "enter your first value: 66\n",
      "enter your second value: 76\n",
      "enter your third value: 66\n",
      "sum 0\n"
     ]
    }
   ],
   "source": [
    "# 9.Write a Python program to sum of three given integers. However, if two value are equal sum will be zero.\n",
    "\n",
    "a=int(input(\"enter your first value: \"))      #use for  three variable\n",
    "b=int(input(\"enter your second value: \"))\n",
    "c=int(input(\"enter your third value: \"))\n",
    "\n",
    "if a == b or b == c or c == a:                #use in equal value\n",
    "  print(\"sum\",0)\n",
    "else:\n",
    "  print(\"sum\",a+b+c)                          #three variable equal to sum"
   ]
  },
  {
   "cell_type": "code",
   "execution_count": 75,
   "id": "a92a029a",
   "metadata": {},
   "outputs": [
    {
     "name": "stdout",
     "output_type": "stream",
     "text": [
      "enter your num: 1\n",
      "enter your num: 2\n",
      "false\n"
     ]
    }
   ],
   "source": [
    "# Q.10-> Write a Python program that will return true if the two given integer values are equal or their sum or difference is 5.\n",
    "\n",
    " \n",
    "a=int(input(\"enter your num: \"))      \n",
    "b=int(input(\"enter your num: \"))\n",
    "if a==b or abs(a+b)==5 or a-b==5:                #use in condition\n",
    "    print(\"true\")\n",
    "else:                                            #use in other call  \n",
    "    print(\"false\")"
   ]
  },
  {
   "cell_type": "code",
   "execution_count": null,
   "id": "836c6a36",
   "metadata": {},
   "outputs": [],
   "source": [
    "# Q.11-->Write a python program to sum of the first n positive integers.\n",
    "\n",
    "num=int(input(\"enter your num: \"))        \n",
    "sum=0                                 #users value\n",
    "for i in range(1,num):\n",
    "    sum=i+sum                         #use in value\n",
    "    print(i,end=\"+\")\n",
    "print(\"=\",sum)                         #ans in use  \n",
    "print(sum)"
   ]
  },
  {
   "cell_type": "code",
   "execution_count": null,
   "id": "66967525",
   "metadata": {},
   "outputs": [],
   "source": [
    "# Q.12 Write a Python program to calculate the length of a string.\n",
    "\n",
    "str1=\"jayswaminarayanjayswaminarayan \"         #use for calculate\n",
    "print(len(str1))                               #length use for ans "
   ]
  },
  {
   "cell_type": "code",
   "execution_count": 14,
   "id": "22799945",
   "metadata": {},
   "outputs": [
    {
     "name": "stdout",
     "output_type": "stream",
     "text": [
      "{'j': 1, 'a': 5, 'y': 2, 's': 1, 'w': 1, 'm': 1, 'i': 1, 'n': 2, 'r': 1, ' ': 1}\n"
     ]
    }
   ],
   "source": [
    "# 13. Write a Python program to count the number of characters (character frequency) in a string.\n",
    "\n",
    "str1=(\"jayswaminarayan \")           #characte name\n",
    "a= {}                               #dic in use\n",
    "for i in str1:\n",
    "  if i in a:                        #add in character\n",
    "    a[i]+=1                         #characte pluse in ans\n",
    "  else:\n",
    "    a[i]=1                          #transfer to charater  \n",
    "print(a)  "
   ]
  },
  {
   "cell_type": "code",
   "execution_count": null,
   "id": "8dbf2d5a",
   "metadata": {},
   "outputs": [],
   "source": [
    "# Q.14->What are negative indexes and why are they used ?\n",
    "  \n",
    "\n",
    "Python, Python interview questions, Technology November 4, 2018\n",
    "What are negative indexes and why are they used?\n",
    "As we know, indexes are used in arrays in all the programming languages.\n",
    "We can access the elements of an array by going through their indexes. \n",
    "But no programming language allows us to use a negative index value such as -4.\n",
    "Python programming language supports negative indexing of arrays, something which is not available in arrays in most other programming languages. \n",
    "This means that the index value of -1 gives the last element, and -2 gives the second last element of an array.\n",
    "The negative indexing starts from where the array ends. \n",
    "This means that the last element of the array is the first element in the negative indexing which is -1.\n",
    "# example\n",
    "a=[1,2,3,4,5,6]\n",
    "print(a[-1])     \n",
    "print(a[-2])"
   ]
  },
  {
   "cell_type": "code",
   "execution_count": 43,
   "id": "7bc2fae2",
   "metadata": {},
   "outputs": [
    {
     "name": "stdout",
     "output_type": "stream",
     "text": [
      "3\n"
     ]
    }
   ],
   "source": [
    "# Q.15->Write a Python program to count occurrences of a substring in a string\n",
    "str1 = 'how many many python class.'\n",
    "\n",
    "print(str1.count(\"a\"))    #substring i use\n",
    "\n",
    "\n"
   ]
  },
  {
   "cell_type": "code",
   "execution_count": 7,
   "id": "e39cf212",
   "metadata": {},
   "outputs": [
    {
     "name": "stdout",
     "output_type": "stream",
     "text": [
      "{'enter': 1, 'your': 1, 'num:': 1}\n"
     ]
    }
   ],
   "source": [
    "# Q.16-> Write a Python program to count the occurrences of each word in a given sentence\n",
    "\n",
    "str1=(\"enter your num:\")                     \n",
    "word=str1.split()                             #use for condition\n",
    "a={}\n",
    "for i in word:\n",
    "    if i in a:\n",
    "        a[i]+=1                              #add to count\n",
    "    else:\n",
    "        a[i]=1                               #equl to ans\n",
    "     \n",
    "        \n",
    "print(a)\n",
    "   "
   ]
  },
  {
   "cell_type": "code",
   "execution_count": 39,
   "id": "e1d22187",
   "metadata": {},
   "outputs": [
    {
     "name": "stdout",
     "output_type": "stream",
     "text": [
      "bafour swiping : hallo world\n",
      "After swiping : ahllo\n",
      "after swaiping: owrld\n",
      "ahllo owrld\n"
     ]
    }
   ],
   "source": [
    "# Q.17-> Write a Python program to get a single string from two given strings,\n",
    "       #separated by a space and swap the first two characters of each string.\n",
    "\n",
    "a=\"hallo\"\n",
    "b=\"world\"\n",
    "print(\"befour swiping :\",a,b)                    #use for condition\n",
    "\n",
    "a1=a[1]+a[0]+a[2:]    #count this nam in swap \n",
    "\n",
    "a2=b[1]+b[0]+b[2:]                               #word in swap\n",
    "\n",
    "print(\"After swiping :\",a1)\n",
    "\n",
    "print(\"after swaiping:\",a2)\n",
    "\n",
    "new_str=a1+\" \"+a2                                #use in \n",
    "\n",
    "print(new_str)                                 \n"
   ]
  },
  {
   "cell_type": "code",
   "execution_count": 15,
   "id": "ecbde76e",
   "metadata": {},
   "outputs": [
    {
     "name": "stdout",
     "output_type": "stream",
     "text": [
      "enter a syntex: bvcing\n",
      "bvcingly\n"
     ]
    }
   ],
   "source": [
    "# Q.18-> Write a Python program to add 'ing' at the end of a given string (length \n",
    "#should be at least 3). If the given string already ends with 'ing' then add \n",
    "#'ly' instead if the string length of the given string is less than 3, leave it \n",
    "#unchanged.\n",
    "\n",
    "\n",
    "addnam=input(\"enter a syntex: \")\n",
    "\n",
    "if len(addnam)>=3:                         #three words up to use/down to not use\n",
    "    if addnam.endswith('ing'):              #condition use in words last in add\n",
    "        addnam  += 'ly'                    #ing in add to this words use\n",
    "    else:\n",
    "        addnam += 'ing'\n",
    "print(addnam)        \n",
    "        \n",
    "\n"
   ]
  },
  {
   "cell_type": "code",
   "execution_count": 5,
   "id": "52f6c0cb",
   "metadata": {},
   "outputs": [
    {
     "name": "stdout",
     "output_type": "stream",
     "text": [
      "Enter a string :yutvik are the not a poor men\n",
      "yutvik are the good men\n"
     ]
    }
   ],
   "source": [
    "# Q.19-> Write a Python program to find the first appearance of the substring \n",
    "#'not' and 'poor' from a given string, if 'not' follows the 'poor', replace the \n",
    "#whole 'not'...'poor' substring with 'good'. Return the resulting string\n",
    "\n",
    "add=input(\"Enter a string :\")\n",
    "a=add.find('not')                            #use for condition in find\n",
    "b=add.find('poor')\n",
    "if a <b: \n",
    "    add1=add.replace(add[a:b+4],\"good\")     #use in replace words  \n",
    "    print(add1)\n",
    "else:\n",
    "    print(add) \n",
    "                          \n",
    "    "
   ]
  },
  {
   "cell_type": "code",
   "execution_count": 1,
   "id": "54510cdf",
   "metadata": {},
   "outputs": [
    {
     "name": "stdout",
     "output_type": "stream",
     "text": [
      "swamishree\n"
     ]
    }
   ],
   "source": [
    "# Q.20-> Write a Python function that takes a list of words and returns the length of the longest one.\n",
    "words=[\"proyosha\",\"shreeji\",\"pramukh\",\"swamishree\"]\n",
    "list_len=[]\n",
    "for i in words:\n",
    "    list_len.append(len(i))\n",
    "l=(list_len.index(max(list_len)))\n",
    "print(words[l])"
   ]
  },
  {
   "cell_type": "code",
   "execution_count": 71,
   "id": "0062561d",
   "metadata": {},
   "outputs": [
    {
     "name": "stdout",
     "output_type": "stream",
     "text": [
      "hello world: rama\n",
      "amar\n"
     ]
    }
   ],
   "source": [
    "#Q.21-> Write a Python function to reverses a string if its length is a multiple of 4.\n",
    "str1=input(\"hello world: \")\n",
    "if len(str1)% 4==0:\n",
    "    print(''.join(str1[::-1]))\n",
    "else:\n",
    "    print(str1)\n",
    "\n",
    "    "
   ]
  },
  {
   "cell_type": "code",
   "execution_count": 3,
   "id": "d0a40bbc",
   "metadata": {},
   "outputs": [
    {
     "name": "stdout",
     "output_type": "stream",
     "text": [
      "ENTER YOUR NAM: shree\n",
      "shee\n"
     ]
    }
   ],
   "source": [
    "# Q.22->  Write a Python program to get a string made of the first 2 and the last \n",
    "#2 chars from a given a string. If the string length is less than 2, return \n",
    "#instead of the empty string.\n",
    "\n",
    "str1=input(\"ENTER YOUR NAM: \")\n",
    "if len(str1)<=2:                                  #use in condition\n",
    "    print(\"emty\")\n",
    "else:\n",
    "    newstr1= str1[0:2] +str1[-2:]                      \n",
    " \n",
    "    print(newstr1)\n"
   ]
  },
  {
   "cell_type": "code",
   "execution_count": 102,
   "id": "663fda67",
   "metadata": {},
   "outputs": [
    {
     "name": "stdout",
     "output_type": "stream",
     "text": [
      "Enter str1 :yutvik\n",
      "Enter str2 :savani\n",
      "yusavanitvik\n"
     ]
    }
   ],
   "source": [
    "# Q.23->Write a Python function to insert a string in the middle of a string.\n",
    "# str1=(input(\"Enter str1 :\"))\n",
    "# str2=(input(\"Enter str2 :\"))\n",
    "# string=str1[0:2] + str2 +str1[2:]\n",
    "# print(string)\n",
    "def string(a,b):\n",
    "    return str1[0:2] + str2 +str1[2:]\n",
    "str1=(input(\"Enter str1 :\"))\n",
    "str2=(input(\"Enter str2 :\"))\n",
    "print(string(str1,str2))   \n",
    "   "
   ]
  },
  {
   "cell_type": "code",
   "execution_count": null,
   "id": "d14f11ca",
   "metadata": {},
   "outputs": [],
   "source": [
    "\n"
   ]
  }
 ],
 "metadata": {
  "kernelspec": {
   "display_name": "Python 3 (ipykernel)",
   "language": "python",
   "name": "python3"
  },
  "language_info": {
   "codemirror_mode": {
    "name": "ipython",
    "version": 3
   },
   "file_extension": ".py",
   "mimetype": "text/x-python",
   "name": "python",
   "nbconvert_exporter": "python",
   "pygments_lexer": "ipython3",
   "version": "3.10.9"
  }
 },
 "nbformat": 4,
 "nbformat_minor": 5
}
