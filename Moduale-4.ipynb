{
 "cells": [
  {
   "cell_type": "code",
   "execution_count": null,
   "id": "2e9abebe",
   "metadata": {},
   "outputs": [],
   "source": [
    "# Q.1-->What is File function in python? What is keywords to create and write file.\n",
    "\n",
    "-->file function is used to access the file and manipulation to filr\n",
    "i)read()\n",
    "ii)write()"
   ]
  },
  {
   "cell_type": "code",
   "execution_count": 4,
   "id": "ec4b65aa",
   "metadata": {},
   "outputs": [
    {
     "name": "stdout",
     "output_type": "stream",
     "text": [
      "Name\t:\tyutvik\n",
      "Age\t:\t23\n",
      "Mobile\t:\t7405002900\n",
      "Email\t:\ty@gmail.commo:.7405002900\n",
      "\n"
     ]
    }
   ],
   "source": [
    "# Q.2-->Write a Python program to read an entire text file.\n",
    "\n",
    "fp=open(\"demo1.txt\",\"r\")\n",
    "print(fp.read())\n",
    "fp.close()"
   ]
  },
  {
   "cell_type": "code",
   "execution_count": 41,
   "id": "40e21fd8",
   "metadata": {},
   "outputs": [
    {
     "name": "stdout",
     "output_type": "stream",
     "text": [
      "mo:.7405002900\n",
      "\n"
     ]
    }
   ],
   "source": [
    "# Q.3-->Write a Python program to append text to a file and display the text.\n",
    "\n",
    "f=open(\"demo1.txt\",\"a\")\n",
    "f.write(\"mo:.7405002900\\n\")\n",
    "#\n",
    "f.close()\n",
    "f=open(\"demo1.txt\",\"r\")\n",
    "print(f.read())\n",
    "f.close()"
   ]
  },
  {
   "cell_type": "code",
   "execution_count": 26,
   "id": "14c974aa",
   "metadata": {},
   "outputs": [
    {
     "name": "stdout",
     "output_type": "stream",
     "text": [
      "enter your file Name: 5\n",
      "\n",
      "\n",
      "yutvik\n",
      "\n",
      "pallavi\n",
      "\n",
      "jinal\n",
      "\n",
      "manali\n",
      "\n"
     ]
    }
   ],
   "source": [
    "# Q.4-->Write a Python program to read first n lines of a file.\n",
    "\n",
    "n=int(input(\"enter your file Name: \"))\n",
    "f=open(\"demo2.txt\",\"r\")\n",
    "for i in range(0,n):\n",
    "    print(f.readline())\n",
    "f.close()    "
   ]
  },
  {
   "cell_type": "code",
   "execution_count": 7,
   "id": "dacb5507",
   "metadata": {},
   "outputs": [
    {
     "name": "stdout",
     "output_type": "stream",
     "text": [
      "enter file open: 3\n",
      "['Age\\t:\\t23\\n', 'Mobile\\t:\\t7405002900\\n', 'Email\\t:\\ty@gmail.commo:.7405002900\\n']\n"
     ]
    }
   ],
   "source": [
    "# Q.5-->Write a Python program to read last n lines of a file. \n",
    "num=int(input(\"enter file open: \"))\n",
    "f=open(\"demo1.txt\",\"r\")\n",
    "lines=f.readlines()\n",
    "print(lines[-num:])\n",
    "\n",
    "f.close()\n",
    "\n",
    "\n"
   ]
  },
  {
   "cell_type": "code",
   "execution_count": 22,
   "id": "90195a37",
   "metadata": {},
   "outputs": [
    {
     "name": "stdout",
     "output_type": "stream",
     "text": [
      "['Name\\t:\\tyutvik\\n', 'Age\\t:\\t23\\n', 'Mobile\\t:\\t455636535335\\n', 'Email\\t:\\ty@gmail.commo:.7405002900\\n', 'mo:.7405002900\\n']\n"
     ]
    }
   ],
   "source": [
    "# Q.6-->Write a Python program to read a file line by line and store it into a list.\n",
    "\n",
    "ys=open(\"demo2.txt\",\"r\")\n",
    "print(ys.readlines())"
   ]
  },
  {
   "cell_type": "code",
   "execution_count": 23,
   "id": "92f08ce6",
   "metadata": {},
   "outputs": [
    {
     "name": "stdout",
     "output_type": "stream",
     "text": [
      "['Name\\t:\\tyutvik\\n', 'Age\\t:\\t23\\n', 'Mobile\\t:\\t455636535335\\n', 'Email\\t:\\ty@gmail.commo:.7405002900\\n', 'mo:.7405002900\\n']\n"
     ]
    }
   ],
   "source": [
    "# Q.7-->Write a Python program to read a file line by line store it into a variable.\n",
    "\n",
    "ys=open(\"demo2.txt\",\"r\")\n",
    "sy=ys.readlines()\n",
    "print(sy)"
   ]
  },
  {
   "cell_type": "code",
   "execution_count": 20,
   "id": "536ca106",
   "metadata": {},
   "outputs": [
    {
     "name": "stdout",
     "output_type": "stream",
     "text": [
      "['M', 'y', ' ', 'n', 'a', 'm', 'e', ' ', 'i', 's', ' ', 's', 'a', 'v', 'a', 'n', 'i', ' ', 'y', 'u', 't', 'v', 'i', 'k']\n"
     ]
    }
   ],
   "source": [
    "# Q.8-->Write a python program to find the longest words.\n",
    "\n",
    "str1=\"My name is savani yutvik\"\n",
    "str1=sorted(str1,key=len)\n",
    "print(str1)\n",
    "\n",
    "\n"
   ]
  },
  {
   "cell_type": "code",
   "execution_count": 2,
   "id": "0347eec5",
   "metadata": {},
   "outputs": [
    {
     "name": "stdout",
     "output_type": "stream",
     "text": [
      "5\n"
     ]
    }
   ],
   "source": [
    "# Q.9->Write a Python program to count the number of lines in a text file.\n",
    "\n",
    "\n",
    "n=open(\"demo2.txt\",\"r\")\n",
    "print(len(n.readlines()))"
   ]
  },
  {
   "cell_type": "code",
   "execution_count": 40,
   "id": "fb404502",
   "metadata": {},
   "outputs": [
    {
     "name": "stdout",
     "output_type": "stream",
     "text": [
      "enter your frequency: savani\n",
      "['ssvanui', 'savani', 'savani']\n",
      "word savani occurred 2 time\n"
     ]
    }
   ],
   "source": [
    "# Q.10->Write a Python program to count the frequency of words in a file.\n",
    "\n",
    "f=open(\"demo2.txt\",\"r\")\n",
    "num=(input(\"enter your frequency: \"))\n",
    "a=f.read()\n",
    "l1=a.split()\n",
    "print(l1)\n",
    "count=0\n",
    "for i in l1:\n",
    "    if (i==num):\n",
    "        count+=1\n",
    "print(\"word {} occurred {} time\".format(num,count))        \n",
    "        \n"
   ]
  },
  {
   "cell_type": "code",
   "execution_count": 79,
   "id": "4b435749",
   "metadata": {},
   "outputs": [
    {
     "data": {
      "text/plain": [
       "1"
      ]
     },
     "execution_count": 79,
     "metadata": {},
     "output_type": "execute_result"
    }
   ],
   "source": [
    "# Q.11->Write a Python program to write a list to a file.\n",
    "\n",
    "l1=[\"yutvik\",\"pallavi\",\"manali\"]\n",
    "a=open(\"demo2.txt\",\"w\")\n",
    "a.write(\"[\")\n",
    "for i in l1:\n",
    "        a.write(i+\",\"+ \"\\n\")\n",
    "a.write(\"]\")\n",
    "    \n",
    "\n",
    "\n"
   ]
  },
  {
   "cell_type": "code",
   "execution_count": 41,
   "id": "8132e34c",
   "metadata": {},
   "outputs": [
    {
     "name": "stdout",
     "output_type": "stream",
     "text": [
      "Name\t:\tyutvik\n",
      "Age\t:\t23\n",
      "Mobile\t:\t7405002900\n",
      "Email\t:\ty@gmail.commo:.7405002900\n",
      "\n"
     ]
    }
   ],
   "source": [
    "# Q.12->Write a Python program to copy the contents of a file to another file.\n",
    "a=open(\"demo1.txt\",\"r\")\n",
    "b=open(\"demo.txt\",\"w\")\n",
    "for i in a:\n",
    "    b.write(i)\n",
    "b.close()\n",
    "b=open(\"demo.txt\",\"r\")\n",
    "print(b.read())\n",
    "    "
   ]
  },
  {
   "cell_type": "code",
   "execution_count": null,
   "id": "83d99f33",
   "metadata": {},
   "outputs": [],
   "source": [
    "# Q.13->Explain Exception handling? What is an Error in Python?\n",
    "\n",
    ":-EXCEPTION HENDLING-->>\n",
    "     If you have some suspicious code that may raise an exception,\n",
    "you can defend your program by placing the suspicious code in a try: block.\n",
    "After the try: block, include an except: statement,\n",
    "followed by a block of code which handles the problem as elegantly as possible.\n",
    "\n",
    ":-ERROR IN PYTHON-->>\n",
    "TOTAL ERROR 4 \n",
    "1]NameError\n",
    "2]TypeError\n",
    "3]IndexError\n",
    "4]AttributeError\n",
    "5]LogicalError\n",
    "\n",
    "    "
   ]
  },
  {
   "cell_type": "code",
   "execution_count": null,
   "id": "f6133064",
   "metadata": {},
   "outputs": [],
   "source": [
    "# Q.14->How many except statements can a try-except block have? Name Some built in exception classes.\n",
    "              * Try-Except  *\n",
    "Assuming you mean optional blocks, then the answer would be the else block and the finally block.\n",
    "\n",
    "The else block is executed if none of the statements in the try block throw an exception, \n",
    "and the finally block is executed in all cases\n",
    "    # example    \n",
    ">>> try: \n",
    "...     raise Exception \n",
    "... except: \n",
    "...     print('exception raised') \n",
    "... else: \n",
    "...     print('all is well') \n",
    "... finally: \n",
    "...     print('executed either way') \n",
    "... \n",
    "exception raised \n",
    "executed either wa    \n",
    "    \n",
    "     * Built in Exections*        *Description*\n",
    "        \n",
    "1]ArithmeticError                  Raised when an error occurs in numeric calculations     \n",
    "2]AttributeError                   Raised when attribute reference or assignment fails \n",
    "3]Exception                        Base class for all exceptions\n",
    "4]FloatingPointError               Raised when a floating point calculation fails \n",
    "5]ImportError                      Raised when an imported module does not exist \n",
    "6]IndexError                       Raised when an index of a sequence does not exist \n",
    "7]KeyError                         Raised when a key does not exist in a dictionary   \n",
    "8]NameError                        Raised when a variable does not exist\n",
    "9]TypeError                        Raised when two different types are combined    \n",
    "10]ValueError                      Raised when there is a wrong value in a specified data type \n",
    " in many more error ...."
   ]
  },
  {
   "cell_type": "code",
   "execution_count": null,
   "id": "86ab250c",
   "metadata": {},
   "outputs": [],
   "source": [
    "# Q.15->When will the else part of try-except-else be executed?\n",
    "\n",
    "The try block lets you test a block of code for errors.\n",
    "The except block lets you handle the error. The else block lets you execute code when there is no error. \n",
    "The finally block lets you execute code, regardless of the result of the try- and except block"
   ]
  },
  {
   "cell_type": "code",
   "execution_count": null,
   "id": "6f0b40e1",
   "metadata": {},
   "outputs": [],
   "source": [
    "# Q.16 Can one block of except statements handle multiple exception.\n",
    "\n",
    "\n",
    "When a program encounters an exception during execution, it is terminated if the exception is not handled. \n",
    "By handling multiple exceptions, a program can respond to different exceptions without terminating it.\n",
    "\n",
    "In Python, try-except blocks can be used to catch and respond to one or multiple exceptions.\n",
    "In cases where a process raises more than one possible exception, they can all be handled using a single except clause.\n",
    "\n",
    "There are several approaches for handling multiple exceptions in Python, the most common of which are discussed below."
   ]
  },
  {
   "cell_type": "code",
   "execution_count": 1,
   "id": "e7dcceac",
   "metadata": {},
   "outputs": [
    {
     "name": "stdout",
     "output_type": "stream",
     "text": [
      "how old are you33\n",
      "you are 33 year old\n",
      "have a nice day\n"
     ]
    }
   ],
   "source": [
    "# Q.17 When is the finally block executed?\n",
    "\n",
    "try:\n",
    "    age= int(input(\"how old are you\"))\n",
    "    print(f\"you are {age} year old\")\n",
    "except:\n",
    "    print(\"invaild integer was enterd\")\n",
    "finally:\n",
    "    print(\"have a nice day\")\n"
   ]
  },
  {
   "cell_type": "code",
   "execution_count": null,
   "id": "4aac8ff1",
   "metadata": {},
   "outputs": [],
   "source": [
    "# Q.18 What happens when „1‟== 1 is executed?\n",
    "\n",
    "\n",
    "what happens when ,,1‟==1 is executed?\n",
    "ans: it simply answer to false and does not raise any exceptin. "
   ]
  },
  {
   "cell_type": "code",
   "execution_count": 3,
   "id": "24421c8b",
   "metadata": {},
   "outputs": [
    {
     "name": "stdout",
     "output_type": "stream",
     "text": [
      "Zero DivisionError\n"
     ]
    }
   ],
   "source": [
    "# Q.19 How Do You Handle Exceptions With Try/Except/Finally In Python?Explain with coding snippets. \n",
    "\n",
    "\n",
    "try:\n",
    "    a=10\n",
    "    b=0\n",
    "    c=a/b\n",
    "    print(c)\n",
    "except:\n",
    "    print(\"Zero DivisionError\")"
   ]
  },
  {
   "cell_type": "code",
   "execution_count": 6,
   "id": "1e58518c",
   "metadata": {},
   "outputs": [
    {
     "name": "stdout",
     "output_type": "stream",
     "text": [
      "enter your num 1: \n",
      "323\n",
      "enter your num 2: \n",
      "323\n",
      "The sum of these two numbe ris  323323\n",
      "This Line Is Very Important\n"
     ]
    }
   ],
   "source": [
    "# Q.20 Write python program that user to enter only odd numbers, else will raise an exception \n",
    "\n",
    "print(\"enter your num 1: \")\n",
    "num1=input()\n",
    "print(\"enter your num 2: \")\n",
    "num2=input()\n",
    "try:\n",
    "    print(\"The sum of these two numbe ris \",\n",
    "          num1+num2)\n",
    "except exception as e:\n",
    "    print(e)\n",
    "print(\"This Line Is Very Important\")"
   ]
  },
  {
   "cell_type": "code",
   "execution_count": null,
   "id": "c1d86de4",
   "metadata": {},
   "outputs": [],
   "source": [
    "# Q.21 What are oops concepts? Is multiple inheritance supported in java\n",
    "\n",
    "OOP (object-oriented programming) concepts in Python include Class, Object, Method, Inheritance,\n",
    "    Polymorphism, Data Abstraction, and Encapsulation.\n",
    "   -  Java programming language does not permit you to extend more than one class is to avoid the issues\n",
    "    of multiple inheritance of state, which is the ability to inherit fields from multiple classes"
   ]
  },
  {
   "cell_type": "code",
   "execution_count": 10,
   "id": "27a1fe29",
   "metadata": {},
   "outputs": [],
   "source": [
    "# Q.22 How to Define a Class in Python? What Is Self? Give An Example Of A Python Class \n",
    "\n",
    "\n",
    "# SELF represents the instance of class. This handy keyword allows you to access variables,\n",
    "#     attributes, and methods of a defined class in Python. The self parameter doesn't have to\n",
    "#     be named “self,” as you can call it by any other name\n",
    "#     class student:\n",
    "        \n",
    "        \n",
    "    def __init__(self):\n",
    "        self.name=\"\"\n",
    "        self.age=\"\"\n",
    "        self.marks1=\"\"\n",
    "        self.marks2=\"\"\n",
    "    def getdata(self):\n",
    "        self.name=input(\"enter name:\")\n",
    "        self.age=input(\"enter age: \")\n",
    "        self.marks1=int(input(\"enter marks1: \"))\n",
    "        self.marks2=int(input(\"enter marks2: \"))\n",
    "s1=student()\n",
    "s1.getdata()\n",
    "s2=student()\n",
    "s2.getdata()\n",
    "s3=student()\n",
    "s3.getdata()"
   ]
  },
  {
   "cell_type": "code",
   "execution_count": 2,
   "id": "ed72d71e",
   "metadata": {},
   "outputs": [
    {
     "name": "stdout",
     "output_type": "stream",
     "text": [
      "entrt the radius:2\n",
      "area of circle= 12.56\n",
      "entrt the radius:1\n",
      "area of circle= 6.28\n"
     ]
    }
   ],
   "source": [
    "# Q.23 Write a Python class named Circle constructed by a radius and two \n",
    "# methods which will compute the area and the perimeter of a circle\n",
    "\n",
    "\n",
    "\n",
    "\n",
    "class circle():\n",
    "    def __init__(self):\n",
    "        self.radius=\"\"\n",
    "    def getdata_area(self):\n",
    "        self.radius=int(input(\"entrt the radius:\"))\n",
    "        print(\"area of circle=\",3.14*(self.radius**2))\n",
    "    def getdata_permiter(self):\n",
    "        self.radius=int(input(\"entrt the radius:\"))\n",
    "        print(\"area of circle=\",3.14*self.radius*2)\n",
    "    \n",
    "\n",
    "s1 = circle()\n",
    "s1.getdata_area()\n",
    "s1.getdata_permiter()"
   ]
  },
  {
   "cell_type": "code",
   "execution_count": 1,
   "id": "fa133f2c",
   "metadata": {},
   "outputs": [],
   "source": [
    "# Q.24 Explain Inheritance in Python with an example? What is init? Or What \n",
    "#Is A Constructor In Python?\n",
    "\n",
    "Inheritance relationship defines the classes that inherit from other classes as derived, subclass, or sub-type classes.\n",
    "   - The __init__ method is the Python equivalent of the C++ constructor in an object-oriented approach.\n",
    "   - Constructors in Python is a special method of a class for creating and initializing an object instance at that class.\n",
    "    \n"
   ]
  },
  {
   "cell_type": "code",
   "execution_count": null,
   "id": "37b9f77f",
   "metadata": {},
   "outputs": [],
   "source": [
    "# Q.25 what is Instantiation in terms of OOP terminology? \n",
    "->In object-oriented programming (OOP), an object is essentially an instance of a class. In OOP languages,\n",
    "    a class is like a blueprint where variables and methods are defined,\n",
    "    and each time a new instance of the class (instantiation) is created, \n",
    "    an object gets created hence the term object-oriented."
   ]
  },
  {
   "cell_type": "code",
   "execution_count": null,
   "id": "e2045db1",
   "metadata": {},
   "outputs": [],
   "source": [
    "# Q.26 What is used to check whether an object o is an instance of class A?\n",
    "->The isinstance() function returns True if the specified object is of the specified type, otherwise False .\n",
    "    If the type parameter is a tuple, this function will return True if the object is one of the types in the tuple."
   ]
  },
  {
   "cell_type": "code",
   "execution_count": null,
   "id": "3e4bfc21",
   "metadata": {},
   "outputs": [],
   "source": [
    "# Q.27 What relationship is appropriate for Course and Faculty?\n",
    "->The relationship between a Course and a Faculty member typically involves an association known as \"teaching\" or \"instructing.\" \n",
    "A Faculty member, often referred to as an instructor or professor,\n",
    "is responsible for teaching a specific Course or Courses within an educational institution such as a university or college\n",
    "\n",
    "Overall, the relationship between Course and Faculty depends on the structure and organization of the educational \n",
    "institution, but the fundamental association revolves around the Faculty member delivering instruction for a specific Course"
   ]
  },
  {
   "cell_type": "code",
   "execution_count": null,
   "id": "86be694f",
   "metadata": {},
   "outputs": [],
   "source": [
    "# Q.28 What relationship is appropriate for Student and Person? \n",
    "->The relationship between a student and a person can vary depending on the context. In general, \n",
    "a student is a type of person who is engaged in learning activities, typically within an educational institution such as a \n",
    "school, college, or university. However, if we assume that by \"Person\" you mean a non-student individual, then the appropriate \n",
    "relationship would typically be that of a teacher and student, mentor and mentee, or simply acquaintances or friends\n"
   ]
  }
 ],
 "metadata": {
  "kernelspec": {
   "display_name": "Python 3 (ipykernel)",
   "language": "python",
   "name": "python3"
  },
  "language_info": {
   "codemirror_mode": {
    "name": "ipython",
    "version": 3
   },
   "file_extension": ".py",
   "mimetype": "text/x-python",
   "name": "python",
   "nbconvert_exporter": "python",
   "pygments_lexer": "ipython3",
   "version": "3.10.9"
  }
 },
 "nbformat": 4,
 "nbformat_minor": 5
}
